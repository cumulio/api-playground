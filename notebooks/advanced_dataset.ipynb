{
 "cells": [
  {
   "cell_type": "markdown",
   "metadata": {},
   "source": [
    "# Advanced Dataset Manipulations with the Cumul.io API\n",
    "\n",
    "This is a Jupyter notebook which creates a dataset and performs advanced manipulations on it in Cumul.io via the API, using the Python SDK. You're seeing this in a Google Colab file which has created a copy of our template in your own account. You will notice some code blocks where you should replace some inputs with your own API key and tokens (so be mindful of who you share this file with and how you save it. It might be best to create a new API key and token to play around with this code and delete it after). You can also change around the code, add new cells, play around and enjoy!\n",
    " \n",
    "<img src=\"images/jupyter-logo.png\" width=\"150\"/>\n",
    "<img src=\"images/colab_favicon.png\" width=\"200\"/>\n",
    "\n",
    "\n",
    "## How?\n",
    "\n",
    "Jupyter notebooks allow you to write and run code blocks (cells), save and share them. Google Colab is a free Jupyter notebook environment. To use this notebook simply run each code cell below (either click the play button on the top left or press Shift+Enter). I suggest you run each cell in the order you see them below as something in a cell that appears before may be needed in a cell that comes after.\n",
    "\n",
    "You can change the code as you wish, this won't alter the template code you began with. If you want to keep your changes and continue you can always save the notebook (there are options to save to Drive or GitHub).\n",
    "\n",
    "First up, run the cell below to install cumulio!"
   ]
  },
  {
   "cell_type": "code",
   "execution_count": 1,
   "metadata": {},
   "outputs": [],
   "source": [
    "%%capture\n",
    "!pip install cumulio"
   ]
  },
  {
   "cell_type": "markdown",
   "metadata": {},
   "source": [
    "## Create an API client\n",
    "\n",
    "Replace the key and token below with your key and token which you can generate in your [Cumul.io](https://app.cumul.io) profile."
   ]
  },
  {
   "cell_type": "code",
   "execution_count": null,
   "metadata": {},
   "outputs": [],
   "source": [
    "from cumulio.cumulio import Cumulio\n",
    "key = \"Your Cumul.io key\"\n",
    "token = \"Your Cumul.io token\"\n",
    "\n",
    "client = Cumulio(key, token)"
   ]
  },
  {
   "cell_type": "markdown",
   "metadata": {},
   "source": [
    "## Create a dataset\n",
    "\n",
    "For this example I'll assume you have a basic understanding on how to create a dataset via the Cumul.io API. For more on that you can check out the [Create a Dataset]() Notebook before coming back to this one. Below is a cell that creates a dataset called 'Transactions' that has a single column 'Payment Type'. Let's first start by running that and creating it. Once you've ran the cell below, head over to your Cumul.io account and check that the dataset has been created as expected."
   ]
  },
  {
   "cell_type": "code",
   "execution_count": 2,
   "metadata": {},
   "outputs": [],
   "source": [
    "#TODO: Add dataset creation code"
   ]
  },
  {
   "cell_type": "markdown",
   "metadata": {},
   "source": [
    "## Create Hierarchies in the dataset\n",
    "\n",
    "Before we begin, here a quick definition of Dataset Hierarchies:\n",
    "\n",
    "### TODO: add description "
   ]
  },
  {
   "cell_type": "markdown",
   "metadata": {},
   "source": []
  }
 ],
 "metadata": {
  "interpreter": {
   "hash": "944f1ec8b311b93463f3e7e85aa56e9b55fe872c1bbe9174556f1b05b03538a8"
  },
  "kernelspec": {
   "display_name": "Python 3.8.5 32-bit",
   "name": "python3"
  },
  "language_info": {
   "codemirror_mode": {
    "name": "ipython",
    "version": 3
   },
   "file_extension": ".py",
   "mimetype": "text/x-python",
   "name": "python",
   "nbconvert_exporter": "python",
   "pygments_lexer": "ipython3",
   "version": "3.8.5"
  },
  "orig_nbformat": 4
 },
 "nbformat": 4,
 "nbformat_minor": 2
}
