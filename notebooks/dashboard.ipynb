{
 "cells": [
  {
   "cell_type": "markdown",
   "metadata": {},
   "source": [
    "# Create a Dashboard with the Cumul.io API\n",
    "\n",
    "This is a simple Jupyter notebook which creates a dashboard in Cumul.io via the API, using the Python SDK. You're seeing this in a Google Colab file which has created a copy of our template in your own account. You will notice some code blocks where you should replace some inputs with your own API key and tokens (so be mindful of who you share this file with and how you save it. It might be best to create a new API key and token to play around with this code and delete it after). You can also change around the code, add new cells, play around and enjoy!\n",
    " \n",
    "<img src=\"images/jupyter-logo.png\" width=\"150\"/>\n",
    "<img src=\"images/colab_favicon.png\" width=\"200\"/>\n",
    "\n",
    "\n",
    "## How?\n",
    "\n",
    "Jupyter notebooks allow you to write and run code blocks (cells), save and share them. Google Colab is a free Jupyter notebook environment. To use this notebook simply run each code cell below (either click the play button on the top left or press Shift+Enter). I suggest you run each cell in the order you see them below as something in a cell that appears before may be needed in a cell that comes after.\n",
    "\n",
    "You can change the code as you wish, this won't alter the template code you began with. If you want to keep your changes and continue you can always save the notebook (there are options to save to Drive or GitHub).\n",
    "\n",
    "First up, run the cell below to install cumulio!"
   ]
  },
  {
   "cell_type": "code",
   "execution_count": 6,
   "metadata": {},
   "outputs": [],
   "source": [
    "%%capture\n",
    "!pip install cumulio "
   ]
  },
  {
   "cell_type": "markdown",
   "metadata": {},
   "source": [
    "## Create an API client\n",
    "\n",
    "Replace the key and token below with your key and token which you can generate in your [Cumul.io](https://app.cumul.io) profile."
   ]
  },
  {
   "cell_type": "code",
   "execution_count": null,
   "metadata": {},
   "outputs": [],
   "source": [
    "from cumulio.cumulio import Cumulio\n",
    "key = \"Your Cumul.io API key\"\n",
    "token = \"Your Cumul.io API token\"\n",
    "\n",
    "client = Cumulio(key, token)"
   ]
  },
  {
   "cell_type": "markdown",
   "metadata": {},
   "source": [
    "## Create a dashboard\n",
    "\n",
    "Creating a dashboard in Cumul.io uses the ``create`` function and sets the \"securable\" type to be a \"dashboard\". As the API call requires a default setup when creating a dashboard for the first time, I'm going to create a wrapper function that we can use to create as many dashboards we want. By default, this function will set the theme of the dashboard to 'default' but if you want to you can overwrite this when you call the function too!\n",
    "\n",
    "For more information on the API call we will be using and modifying, here is [the developer documentation on creating dashboards](https://developer.cumul.io/#dashboard_create) \n",
    "\n",
    "### Run the cell below to define the helper functions"
   ]
  },
  {
   "cell_type": "code",
   "execution_count": 11,
   "metadata": {},
   "outputs": [],
   "source": [
    "def createScreenModus(modus, theme, filters, items):\n",
    "    obj = {\n",
    "        \"screenModus\": modus,\n",
    "        \"options\": {\n",
    "            \"share\": {\n",
    "                \"poweredBy\": False\n",
    "            },\n",
    "            \"theme\": {\n",
    "                \"id\": theme\n",
    "            }\n",
    "        },\n",
    "        \"filters\": filters,\n",
    "        \"items\": items\n",
    "    }\n",
    "    return obj\n",
    "\n",
    "\n",
    "def create_dashboard(client, \n",
    "                     name,\n",
    "                     filters=[],\n",
    "                     items=[],\n",
    "                     theme=\"default\",\n",
    "                     parameters=[],\n",
    "                     timezone={\"type\": 'fixed', \"id\": 'Europe/Brussels'}):\n",
    "    properties = {}\n",
    "    properties[\"type\"] = 'dashboard'\n",
    "    properties[\"name\"] = name\n",
    "    properties[\"contents\"] = {}\n",
    "    properties[\"contents\"][\"version\"] = '0.1.48'\n",
    "    properties[\"contents\"][\"syncScreenModes\"] = True\n",
    "    properties[\"contents\"][\"datasetLinks\"] = {}\n",
    "    properties[\"contents\"][\"parameters\"] = parameters\n",
    "    properties[\"contents\"][\"timezone\"] = timezone\n",
    "    properties[\"contents\"][\"views\"] = []\n",
    "    desktop = createScreenModus('desktop', theme, filters, items)\n",
    "    mobile = createScreenModus('mobile', theme, filters, items)\n",
    "    tablet = createScreenModus('tablet', theme, filters, items)\n",
    "    properties[\"contents\"][\"views\"].append(desktop)\n",
    "    properties[\"contents\"][\"views\"].append(mobile)\n",
    "    properties[\"contents\"][\"views\"].append(tablet)\n",
    "    print(properties)\n",
    "    response = client.create(\"securable\", properties)\n",
    "    return response\n"
   ]
  },
  {
   "cell_type": "markdown",
   "metadata": {},
   "source": [
    "Make sure you have run the code cell above before using it below. If not you will get an error.\n",
    "\n",
    "### Create a dashboard with your chosen name and theme :)"
   ]
  },
  {
   "cell_type": "code",
   "execution_count": null,
   "metadata": {},
   "outputs": [],
   "source": [
    "dashboard = create_dashboard(client, {\"en\": \"Burrito Dashboard\"}, theme = \"default_dark\")"
   ]
  },
  {
   "cell_type": "markdown",
   "metadata": {},
   "source": [
    "At this stage you, given you have provided the correct API key and token for your account, you should be able to see a new dashboard with the name 'Burrito Dashboard' appear in the Dashboards tab of your Cumul.io account:\n",
    "\n",
    "\n",
    "![](images/created_dashboard.png)"
   ]
  },
  {
   "cell_type": "markdown",
   "metadata": {},
   "source": [
    "## Update the Dashboard\n",
    "\n",
    "Now that we have a dashboard, we can access it and make changes and additions to it. Below is an example where we update the name and the description of the dashboard (which previously did not exist) "
   ]
  },
  {
   "cell_type": "code",
   "execution_count": null,
   "metadata": {},
   "outputs": [],
   "source": [
    "update_properties = {}\n",
    "update_properties[\"name\"] = {\"en\": 'Amazing Burritos'}\n",
    "update_properties[\"description\"] = {\"en\": 'Dashboard with delicious burritos'}\n",
    "client.update(\"securable\", dashboard[\"id\"], update_properties)"
   ]
  },
  {
   "cell_type": "markdown",
   "metadata": {},
   "source": [
    "Now that you've updated the dashboard description and name you will be able to see the updated version on your account. Let's have a look at the Dashboard information to see both:\n",
    "\n",
    "\n",
    "![](images/updated_dashboard.png)"
   ]
  },
  {
   "cell_type": "markdown",
   "metadata": {},
   "source": [
    "And voila! Now you've created and updated a dashboard via the API, you could check out our [Developer Docs](https://developer.cumul.io) and try do some more with the dashboard."
   ]
  }
 ],
 "metadata": {
  "interpreter": {
   "hash": "944f1ec8b311b93463f3e7e85aa56e9b55fe872c1bbe9174556f1b05b03538a8"
  },
  "kernelspec": {
   "display_name": "Python 3.8.5 32-bit",
   "name": "python3"
  },
  "language_info": {
   "codemirror_mode": {
    "name": "ipython",
    "version": 3
   },
   "file_extension": ".py",
   "mimetype": "text/x-python",
   "name": "python",
   "nbconvert_exporter": "python",
   "pygments_lexer": "ipython3",
   "version": "3.8.5"
  },
  "orig_nbformat": 4
 },
 "nbformat": 4,
 "nbformat_minor": 2
}
