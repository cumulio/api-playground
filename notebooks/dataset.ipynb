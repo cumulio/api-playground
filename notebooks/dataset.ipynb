{
 "cells": [
  {
   "cell_type": "markdown",
   "metadata": {},
   "source": [
    "This is a simple Jupyter notebook which creates a dataset in Cumul.io via the API, using the Python SDK. You're seeing this in a Google Colab file which has created a copy of our template in your own account. You will notice some code blocks where you should replace some inputs with your own API key and tokens (so be mindful of who you share this file with and how you save it. It might be best to create a new API key and token to play around with this code and delete it after). You can also change around the code, add new cells, play around and enjoy!\n",
    " \n",
    "<img src=\"images/jupyter-logo.png\" width=\"150\"/>\n",
    "<img src=\"images/colab_favicon.png\" width=\"200\"/>\n",
    "\n",
    "\n",
    "## How?\n",
    "\n",
    "Jupyter notebooks allow you to write and run code blocks (cells), save and share them. Google Colab is a free Jupyter notebook environment. To use this notebook simply run each code cell below (either click the play button on the top left or press Shift+Enter). I suggest you run each cell in the order you see them below as something in a cell that appears before may be needed in a cell that comes after.\n",
    "\n",
    "You can change the code as you wish, this won't alter the template code you began with. If you want to keep your changes and continue you can always save the notebook (there are options to save to Drive or GitHub)."
   ]
  },
  {
   "cell_type": "code",
   "execution_count": null,
   "metadata": {},
   "outputs": [],
   "source": [
    "%%capture\n",
    "!pip install cumulio"
   ]
  },
  {
   "cell_type": "markdown",
   "metadata": {},
   "source": [
    "## Create an API client\n",
    "\n",
    "Replace the key and token below with your key and token which you can generate in your [Cumul.io](https://app.cumul.io) profile."
   ]
  },
  {
   "cell_type": "code",
   "execution_count": null,
   "metadata": {},
   "outputs": [],
   "source": [
    "from cumulio.cumulio import Cumulio\n",
    "key = \"Your Cumul.io key\"\n",
    "token = \"Your Cumul.io token\"\n",
    "\n",
    "client = Cumulio(key, token)"
   ]
  },
  {
   "cell_type": "code",
   "execution_count": 11,
   "metadata": {},
   "outputs": [],
   "source": [
    "dataset = client.create(\"securable\", {\"type\": \"dataset\", \"name\" : {\"en\":\"Example Dataset via Playground\"}})"
   ]
  },
  {
   "cell_type": "markdown",
   "metadata": {},
   "source": [
    "This would be a good time to head over to your Cumul.io account and check out your datasets. With any luck, you should see the dataset you just created at the top!\n",
    "\n",
    "![](images/created_dataset.png)"
   ]
  },
  {
   "cell_type": "markdown",
   "metadata": {},
   "source": [
    "## Create column\n",
    "This is where we create a column by calling the .create function and provide it the properties we want. For more about column properties have a look at the [Developer Documentation](https://developer.cumul.io/#column).\n",
    "A column is its own resource in Cumul.io. So to add it to a dataset we will have to then *associate* it to that dataset"
   ]
  },
  {
   "cell_type": "code",
   "execution_count": 15,
   "metadata": {},
   "outputs": [],
   "source": [
    "properties1 = {}\n",
    "properties1[\"type\"] = 'hierarchy'\n",
    "properties1[\"format\"] = ''\n",
    "properties1[\"informat\"] = 'hierarchy'\n",
    "properties1[\"order\"] = 0\n",
    "properties1[\"name\"] = {\"en\": 'Burrito Type'}\n",
    "column1 = client.create('column', properties1)"
   ]
  },
  {
   "cell_type": "markdown",
   "metadata": {},
   "source": [
    "## Associate Column to Dataset"
   ]
  },
  {
   "cell_type": "code",
   "execution_count": null,
   "metadata": {},
   "outputs": [],
   "source": [
    "client.associate(\"securable\", dataset[\"id\"], \"Columns\", column1[\"id\"])"
   ]
  },
  {
   "cell_type": "markdown",
   "metadata": {},
   "source": [
    "Now you if you go to the dataset you created, you should be able to see the column we just associated to it:\n",
    "\n",
    " ![](images/column.png)"
   ]
  },
  {
   "cell_type": "markdown",
   "metadata": {},
   "source": [
    "## Add Data to Column\n",
    "As we have defined one column, we can add as many rows as we want with 1 item each. Run the cell below and check out what you get in the dataset you created. It should look like the image below"
   ]
  },
  {
   "cell_type": "code",
   "execution_count": null,
   "metadata": {},
   "outputs": [],
   "source": [
    "client.create(\"data\", {\"securable_id\": dataset[\"id\"], \"data\": [[\"vegan\"], [\"veggie\"], [\"GF\"], [\"meaty\"]],})"
   ]
  },
  {
   "cell_type": "markdown",
   "metadata": {},
   "source": [
    "![](images/data.png)"
   ]
  },
  {
   "cell_type": "markdown",
   "metadata": {},
   "source": [
    "## Update Dataset\n",
    "\n",
    "Once you create a securable, whether it be a dataset or column, you can later update the securable. Here let's try update the dataset we created to include a description too. On top of that let's also update the name to be something that makes more sense 😊"
   ]
  },
  {
   "cell_type": "code",
   "execution_count": null,
   "metadata": {},
   "outputs": [],
   "source": [
    "update_properties = {}\n",
    "update_properties[\"description\"] = {\"en\": 'Dataset with delicious burritos'}\n",
    "update_properties[\"name\"] = {\"en\": 'Burritos'}\n",
    "client.update(\"securable\", dataset[\"id\"], update_properties)"
   ]
  },
  {
   "cell_type": "markdown",
   "metadata": {},
   "source": [
    "Once you've run the cell above you should be able to see the dataset with a new name, and a description in Dataset Information:\n",
    "\n",
    "\n",
    "![](images/updated.png)"
   ]
  }
 ],
 "metadata": {
  "interpreter": {
   "hash": "944f1ec8b311b93463f3e7e85aa56e9b55fe872c1bbe9174556f1b05b03538a8"
  },
  "kernelspec": {
   "display_name": "Python 3.8.5 32-bit",
   "name": "python3"
  },
  "language_info": {
   "codemirror_mode": {
    "name": "ipython",
    "version": 3
   },
   "file_extension": ".py",
   "mimetype": "text/x-python",
   "name": "python",
   "nbconvert_exporter": "python",
   "pygments_lexer": "ipython3",
   "version": "3.8.5"
  },
  "orig_nbformat": 4
 },
 "nbformat": 4,
 "nbformat_minor": 2
}
