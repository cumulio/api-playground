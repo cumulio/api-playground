{
 "cells": [
  {
   "cell_type": "code",
   "execution_count": null,
   "metadata": {},
   "outputs": [],
   "source": [
    "%%capture\n",
    "!pip install cumulio"
   ]
  },
  {
   "cell_type": "markdown",
   "metadata": {},
   "source": [
    "This is a simple example which creates a dataset in Cumul.io via the API, using the Python SDK. You're seeing this in a Google Colab file which has created a copy of our template in your own account. You will notice some code blocks where you should replace some inputs with your own API key and tokens (so be mindful of who you share this file with and how you save it. It might be best to create a new API key and token to play around with this code and delete it after). You can also change around the code, add new cells, play around and enjoy!"
   ]
  },
  {
   "cell_type": "markdown",
   "metadata": {},
   "source": [
    "## Create an API client\n",
    "\n",
    "Replace the key and token below with your key and token which you can generate in your [Cumul.io](https://app.cumul.io) profile."
   ]
  },
  {
   "cell_type": "code",
   "execution_count": 1,
   "metadata": {},
   "outputs": [
    {
     "name": "stdout",
     "output_type": "stream",
     "text": [
      "initializing cumulio client...\n"
     ]
    }
   ],
   "source": [
    "from cumulio.cumulio import Cumulio\n",
    "key = \"Your Cumul.io key\"\n",
    "token = \"Your Cumul.io token\"\n",
    "\n",
    "client = Cumulio(key, token)"
   ]
  },
  {
   "cell_type": "markdown",
   "metadata": {},
   "source": [
    "## Create a dataset"
   ]
  },
  {
   "cell_type": "code",
   "execution_count": 2,
   "metadata": {},
   "outputs": [],
   "source": [
    "dataset = client.create(\"securable\", {\"type\": \"dataset\", \"name\" : {\"en\":\"Example Dataset via Playground\"}})"
   ]
  },
  {
   "cell_type": "markdown",
   "metadata": {},
   "source": [
    "This would be a good time to head over to your Cumul.io account and check out your datasets. With any luck, you should see the dataset you just created at the top!"
   ]
  },
  {
   "cell_type": "code",
   "execution_count": null,
   "metadata": {},
   "outputs": [],
   "source": []
  }
 ],
 "metadata": {
  "interpreter": {
   "hash": "944f1ec8b311b93463f3e7e85aa56e9b55fe872c1bbe9174556f1b05b03538a8"
  },
  "kernelspec": {
   "display_name": "Python 3.8.5 32-bit",
   "name": "python3"
  },
  "language_info": {
   "codemirror_mode": {
    "name": "ipython",
    "version": 3
   },
   "file_extension": ".py",
   "mimetype": "text/x-python",
   "name": "python",
   "nbconvert_exporter": "python",
   "pygments_lexer": "ipython3",
   "version": "3.8.5"
  },
  "orig_nbformat": 4
 },
 "nbformat": 4,
 "nbformat_minor": 2
}
